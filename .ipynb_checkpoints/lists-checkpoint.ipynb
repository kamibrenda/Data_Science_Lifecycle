{
 "cells": [
  {
   "cell_type": "markdown",
   "metadata": {},
   "source": [
    "# Python and lists"
   ]
  },
  {
   "cell_type": "code",
   "execution_count": 1,
   "metadata": {},
   "outputs": [
    {
     "data": {
      "text/plain": [
       "905.54890625"
      ]
     },
     "execution_count": 1,
     "metadata": {},
     "output_type": "execute_result"
    }
   ],
   "source": [
    "\"\"\"House list is from a tabular dataset where features = (columns) and observations = (rows).\n",
    "In this list 115910.26 = Price, 128 = square metres and 4 = No. of rooms\"\"\"\n",
    "\n",
    "house_list = [115910.26, 128, 4]\n",
    "\n",
    "#To find the price per metres squared Price/metres squared\n",
    "house_price_m2 = house_list[0] / house_list[1]\n",
    "\n",
    "house_price_m2"
   ]
  },
  {
   "cell_type": "code",
   "execution_count": 2,
   "metadata": {},
   "outputs": [
    {
     "name": "stdout",
     "output_type": "stream",
     "text": [
      "[115910.26, 128, 4, 905.54890625] [[115910.26, 128.0, 4.0], [48718.17, 210.0, 3.0], [28977.56, 58.0, 2.0], [36932.27, 79.0, 3.0], [83903.51, 111.0, 3.0]]\n"
     ]
    }
   ],
   "source": [
    "#To add the new column house_price_m2 - append the list\n",
    "house_list.append(house_price_m2)\n",
    "\n",
    "#To create a nested list to store more than 1 dataset\n",
    "houses_nested_list = [\n",
    "    [115910.26, 128.0, 4.0],\n",
    "    [48718.17, 210.0, 3.0],\n",
    "    [28977.56, 58.0, 2.0],\n",
    "    [36932.27, 79.0, 3.0],\n",
    "    [83903.51, 111.0, 3.0],\n",
    "]\n",
    "print(house_list, houses_nested_list)\n",
    "\n"
   ]
  },
  {
   "cell_type": "code",
   "execution_count": 3,
   "metadata": {},
   "outputs": [
    {
     "data": {
      "text/plain": [
       "[[115910.26, 128.0, 4.0, 905.54890625],\n",
       " [48718.17, 210.0, 3.0, 231.9912857142857],\n",
       " [28977.56, 58.0, 2.0, 499.61310344827587],\n",
       " [36932.27, 79.0, 3.0, 467.4970886075949],\n",
       " [83903.51, 111.0, 3.0, 755.8874774774774]]"
      ]
     },
     "execution_count": 3,
     "metadata": {},
     "output_type": "execute_result"
    }
   ],
   "source": [
    "# Create for loop to iterate through `houses_nested_list`\n",
    "for house in houses_nested_list:\n",
    "    Price_m2 = house[0] / house[1]\n",
    "    house.append(Price_m2)\n",
    "houses_nested_list"
   ]
  },
  {
   "cell_type": "code",
   "execution_count": 4,
   "metadata": {},
   "outputs": [
    {
     "name": "stdout",
     "output_type": "stream",
     "text": [
      "97919.38\n",
      "300511.2\n",
      "293758.14\n",
      "540244.86\n"
     ]
    }
   ],
   "source": [
    "#Working with for loops within a list.\n",
    "price_usd = [97919.38, 300511.20, 293758.14, 540244.86]\n",
    "for x in price_usd:\n",
    "    print(x)"
   ]
  },
  {
   "cell_type": "markdown",
   "metadata": {},
   "source": [
    "# Python and Dictonaries"
   ]
  },
  {
   "cell_type": "markdown",
   "metadata": {},
   "source": [
    "### Values"
   ]
  },
  {
   "cell_type": "code",
   "execution_count": 5,
   "metadata": {},
   "outputs": [
    {
     "name": "stdout",
     "output_type": "stream",
     "text": [
      "{'Price_usd': 121555.09, 'area_m2': 82, 'property_type': 'house'}\n",
      "82\n"
     ]
    }
   ],
   "source": [
    "\"\"\"Creating a dictionary\n",
    "key-value pair is how data is stored in the dictionary. In this case, the keys are Price_usd and value is '121555.09' and so on.\"\"\"\n",
    "\n",
    "Bogota = {\n",
    "    'Price_usd' : 121555.09,\n",
    "    \"area_m2\" : 82,\n",
    "    \"property_type\" : \"house\",\n",
    "}\n",
    "print(Bogota)\n",
    "\n",
    "#Accessing a value in the dictionary using the key \n",
    "x = Bogota[\"area_m2\"]\n",
    "print(x)\n",
    "\n",
    "#To get the value in the dictionary\n",
    "x = Bogota.get(\"area_m2\")"
   ]
  },
  {
   "cell_type": "markdown",
   "metadata": {},
   "source": [
    "### Keys"
   ]
  },
  {
   "cell_type": "code",
   "execution_count": 6,
   "metadata": {},
   "outputs": [
    {
     "name": "stdout",
     "output_type": "stream",
     "text": [
      "Price_usd\n",
      "area_m2\n",
      "property_type\n"
     ]
    }
   ],
   "source": [
    "#To list keys in a dictionary\n",
    "Bogota.keys()\n",
    "\n",
    "#To store the keys in a list(stores mutiple itams in a single variable)\n",
    "list(Bogota.keys())\n",
    "\n",
    "#Listing the keys in a dictionary without using a list\n",
    "for x in Bogota.keys():\n",
    "    print(x)"
   ]
  },
  {
   "cell_type": "markdown",
   "metadata": {},
   "source": [
    "### A list of dictionaries with basic mean calculation"
   ]
  },
  {
   "cell_type": "code",
   "execution_count": 7,
   "metadata": {},
   "outputs": [
    {
     "name": "stdout",
     "output_type": "stream",
     "text": [
      "[{'price_in_usd': 115910.26, 'surface_in_m2': 128, 'rooms': 4}, {'price_in_usd': 48718.17, 'surface_in_m2': 210, 'rooms': 3}, {'price_in_usd': 28977.56, 'surface_in_m2': 58, 'rooms': 2}, {'price_in_usd': 36932.27, 'surface_in_m2': 79, 'rooms': 3}, {'price_in_usd': 83903.51, 'surface_in_m2': 111, 'rooms': 3}]\n",
      "{'price_in_usd': 115910.26, 'surface_in_m2': 128, 'rooms': 4, 'price_m2': 905.54890625}\n"
     ]
    }
   ],
   "source": [
    "\n",
    "\n",
    "\"\"\"Putting a a dictionary with mutiple variables in a list and declaring the variables. The calculation to be done is all executed within the observation(row).\"\"\"\n",
    "\n",
    "house_obs_dict = [\n",
    "    {\n",
    "        \"price_in_usd\": 115910.26,\n",
    "        \"surface_in_m2\": 128,\n",
    "        \"rooms\": 4,\n",
    "    },\n",
    "    {\n",
    "        \"price_in_usd\": 48718.17,\n",
    "        \"surface_in_m2\": 210,\n",
    "        \"rooms\": 3,\n",
    "    },\n",
    "    {\n",
    "        \"price_in_usd\": 28977.56,\n",
    "        \"surface_in_m2\": 58,\n",
    "        \"rooms\": 2,\n",
    "    },\n",
    "    {\n",
    "        \"price_in_usd\": 36932.27,\n",
    "        \"surface_in_m2\": 79,\n",
    "        \"rooms\": 3,\n",
    "    },\n",
    "    {\n",
    "        \"price_in_usd\": 83903.51,\n",
    "        \"surface_in_m2\": 111,\n",
    "        \"rooms\": 3,\n",
    "    },\n",
    "]\n",
    "\n",
    "print(house_obs_dict)\n",
    "\n",
    "\"\"\"Calculating the price per squared metres using dictionaries. This is in reference with the housing data we had earlier used in the lists\"\"\"\n",
    "house_dict = {\n",
    "    \"price_in_usd\": 115910.26,\n",
    "    \"surface_in_m2\": 128,\n",
    "    \"rooms\": 4,\n",
    "}\n",
    "\n",
    "#Calculating the price per metres squared for the house and adding it to the dictionary with its Key-Value pair\n",
    "house_dict[\"price_m2\"] = house_dict[\"price_in_usd\"] / house_dict[\"surface_in_m2\"]\n",
    "print(house_dict)\n",
    "\n"
   ]
  },
  {
   "cell_type": "markdown",
   "metadata": {},
   "source": [
    "#### Mean calculations on observations(rows) and features(columns)"
   ]
  },
  {
   "cell_type": "code",
   "execution_count": 8,
   "metadata": {},
   "outputs": [
    {
     "name": "stdout",
     "output_type": "stream",
     "text": [
      "[{'price_in_usd': 115910.26, 'surface_in_m2': 128, 'rooms': 4, 'price_per_m2': 905.54890625}, {'price_in_usd': 48718.17, 'surface_in_m2': 210, 'rooms': 3, 'price_per_m2': 231.9912857142857}, {'price_in_usd': 28977.56, 'surface_in_m2': 58, 'rooms': 2, 'price_per_m2': 499.61310344827587}, {'price_in_usd': 36932.27, 'surface_in_m2': 79, 'rooms': 3, 'price_per_m2': 467.4970886075949}, {'price_in_usd': 83903.51, 'surface_in_m2': 111, 'rooms': 3, 'price_per_m2': 755.8874774774774}]\n",
      "[115910.26, 48718.17, 28977.56, 36932.27, 83903.51]\n",
      "62888.35399999999\n",
      "{'price_in_usd': [115910.26, 48718.17, 28977.56, 36932.27, 83903.51], 'surface_in_m2': [128.0, 210.0, 58.0, 79.0, 111.0], 'rooms': [4.0, 3.0, 2.0, 3.0, 3.0], 'total_mean_price': 62888.35399999999}\n"
     ]
    }
   ],
   "source": [
    "#OBSERVATION (ROW)\n",
    "\"\"\"Calculate the price per squared metres for each observation(rows) \"\"\"\n",
    "for house in house_obs_dict:\n",
    "    house[\"price_per_m2\"] = house[\"price_in_usd\"] / house[\"surface_in_m2\"]\n",
    "print(house_obs_dict)\n",
    "\n",
    "\n",
    "#FEATURES (COLUMNS) \n",
    "\"\"\"Calculting the mean price of houses within the feature(columns). This is method 1 which is typically longer and involves lists but is still effective. \"\"\"\n",
    "#create an empty list for prices\n",
    "house_prices = []\n",
    "#iterate through all the features and add their prices to the list\n",
    "for house in house_obs_dict:\n",
    "    house_prices.append(house[\"price_in_usd\"])\n",
    "print(house_prices)\n",
    "\n",
    "mean_price = sum(house_prices) / len(house_prices)\n",
    "print(mean_price)\n",
    "\n",
    "\"\"\"This is method 2 which involves creating a dictionary in a list for easier manpulation and organisation of data.\"\"\"\n",
    "#creating a dictionary in a list\n",
    "houses_feat = {\n",
    "    \"price_in_usd\": [115910.26, 48718.17, 28977.56, 36932.27, 83903.51],\n",
    "    \"surface_in_m2\": [128.0, 210.0, 58.0, 79.0, 111.0],\n",
    "    \"rooms\": [4.0, 3.0, 2.0, 3.0, 3.0],\n",
    "}\n",
    "#Calculate the total mean prices of the houses.\n",
    "houses_feat[\"total_mean_price\"] = sum(houses_feat[\"price_in_usd\"]) / len(houses_feat[\"surface_in_m2\"])\n",
    "print(houses_feat)"
   ]
  },
  {
   "cell_type": "code",
   "execution_count": 9,
   "metadata": {},
   "outputs": [
    {
     "data": {
      "text/plain": [
       "{'price_in_usd': [115910.26, 48718.17, 28977.56, 36932.27, 83903.51],\n",
       " 'surface_in_m2': [128.0, 210.0, 58.0, 79.0, 111.0],\n",
       " 'rooms': [4.0, 3.0, 2.0, 3.0, 3.0],\n",
       " 'total_mean_price': 62888.35399999999,\n",
       " 'total_price_m2': [905.54890625,\n",
       "  231.9912857142857,\n",
       "  499.61310344827587,\n",
       "  467.4970886075949,\n",
       "  755.8874774774774]}"
      ]
     },
     "execution_count": 9,
     "metadata": {},
     "output_type": "execute_result"
    }
   ],
   "source": [
    "\"\"\"Calculating the price per metre squared within the feature(column) with introduction of the calculated feature as part of the features.\"\"\"\n",
    "\n",
    "#declare variables area and price to the values within the feature \n",
    "price = houses_feat[\"price_in_usd\"]\n",
    "area = houses_feat[\"surface_in_m2\"]\n",
    "\n",
    "total_price_m2 = []\n",
    "\n",
    "\n",
    "\n",
    "for p, a in zip(price, area):    \n",
    "    price_m2 = p / a\n",
    "    total_price_m2.append(price_m2)\n",
    "\n",
    "houses_feat[\"total_price_m2\"] = total_price_m2\n",
    "\n",
    "houses_feat\n",
    "\n"
   ]
  },
  {
   "cell_type": "code",
   "execution_count": 10,
   "metadata": {},
   "outputs": [
    {
     "name": "stdout",
     "output_type": "stream",
     "text": [
      "[905.54890625, 231.9912857142857, 499.61310344827587, 467.4970886075949, 755.8874774774774]\n"
     ]
    }
   ],
   "source": [
    "print(list(total_price_m2))"
   ]
  },
  {
   "cell_type": "markdown",
   "metadata": {},
   "source": [
    "## Dispalying the information in a dataframe using pandas"
   ]
  },
  {
   "cell_type": "code",
   "execution_count": 11,
   "metadata": {},
   "outputs": [
    {
     "data": {
      "text/html": [
       "<div>\n",
       "<style scoped>\n",
       "    .dataframe tbody tr th:only-of-type {\n",
       "        vertical-align: middle;\n",
       "    }\n",
       "\n",
       "    .dataframe tbody tr th {\n",
       "        vertical-align: top;\n",
       "    }\n",
       "\n",
       "    .dataframe thead th {\n",
       "        text-align: right;\n",
       "    }\n",
       "</style>\n",
       "<table border=\"1\" class=\"dataframe\">\n",
       "  <thead>\n",
       "    <tr style=\"text-align: right;\">\n",
       "      <th></th>\n",
       "      <th>price_in_usd</th>\n",
       "      <th>surface_in_m2</th>\n",
       "      <th>rooms</th>\n",
       "      <th>total_mean_price</th>\n",
       "      <th>total_price_m2</th>\n",
       "    </tr>\n",
       "  </thead>\n",
       "  <tbody>\n",
       "    <tr>\n",
       "      <th>0</th>\n",
       "      <td>115910.26</td>\n",
       "      <td>128.0</td>\n",
       "      <td>4.0</td>\n",
       "      <td>62888.354</td>\n",
       "      <td>905.548906</td>\n",
       "    </tr>\n",
       "    <tr>\n",
       "      <th>1</th>\n",
       "      <td>48718.17</td>\n",
       "      <td>210.0</td>\n",
       "      <td>3.0</td>\n",
       "      <td>62888.354</td>\n",
       "      <td>231.991286</td>\n",
       "    </tr>\n",
       "    <tr>\n",
       "      <th>2</th>\n",
       "      <td>28977.56</td>\n",
       "      <td>58.0</td>\n",
       "      <td>2.0</td>\n",
       "      <td>62888.354</td>\n",
       "      <td>499.613103</td>\n",
       "    </tr>\n",
       "    <tr>\n",
       "      <th>3</th>\n",
       "      <td>36932.27</td>\n",
       "      <td>79.0</td>\n",
       "      <td>3.0</td>\n",
       "      <td>62888.354</td>\n",
       "      <td>467.497089</td>\n",
       "    </tr>\n",
       "    <tr>\n",
       "      <th>4</th>\n",
       "      <td>83903.51</td>\n",
       "      <td>111.0</td>\n",
       "      <td>3.0</td>\n",
       "      <td>62888.354</td>\n",
       "      <td>755.887477</td>\n",
       "    </tr>\n",
       "  </tbody>\n",
       "</table>\n",
       "</div>"
      ],
      "text/plain": [
       "   price_in_usd  surface_in_m2  rooms  total_mean_price  total_price_m2\n",
       "0     115910.26          128.0    4.0         62888.354      905.548906\n",
       "1      48718.17          210.0    3.0         62888.354      231.991286\n",
       "2      28977.56           58.0    2.0         62888.354      499.613103\n",
       "3      36932.27           79.0    3.0         62888.354      467.497089\n",
       "4      83903.51          111.0    3.0         62888.354      755.887477"
      ]
     },
     "execution_count": 11,
     "metadata": {},
     "output_type": "execute_result"
    }
   ],
   "source": [
    "import pandas as pd\n",
    "\n",
    "df_house_prices = pd.DataFrame(houses_feat)\n",
    "\n",
    "df_house_prices"
   ]
  },
  {
   "cell_type": "code",
   "execution_count": 12,
   "metadata": {},
   "outputs": [
    {
     "data": {
      "text/plain": [
       "\"To drop a column price_m2\\ndf_house_prices.drop('price_m2', axis=1, inplace=True)\""
      ]
     },
     "execution_count": 12,
     "metadata": {},
     "output_type": "execute_result"
    }
   ],
   "source": [
    "\"\"\"To drop a column price_m2\n",
    "df_house_prices.drop('price_m2', axis=1, inplace=True)\"\"\""
   ]
  },
  {
   "cell_type": "code",
   "execution_count": 13,
   "metadata": {},
   "outputs": [
    {
     "data": {
      "text/html": [
       "<div>\n",
       "<style scoped>\n",
       "    .dataframe tbody tr th:only-of-type {\n",
       "        vertical-align: middle;\n",
       "    }\n",
       "\n",
       "    .dataframe tbody tr th {\n",
       "        vertical-align: top;\n",
       "    }\n",
       "\n",
       "    .dataframe thead th {\n",
       "        text-align: right;\n",
       "    }\n",
       "</style>\n",
       "<table border=\"1\" class=\"dataframe\">\n",
       "  <thead>\n",
       "    <tr style=\"text-align: right;\">\n",
       "      <th></th>\n",
       "      <th>price_in_usd</th>\n",
       "      <th>surface_in_m2</th>\n",
       "      <th>rooms</th>\n",
       "      <th>total_mean_price</th>\n",
       "      <th>total_price_m2</th>\n",
       "    </tr>\n",
       "  </thead>\n",
       "  <tbody>\n",
       "    <tr>\n",
       "      <th>0</th>\n",
       "      <td>115910.26</td>\n",
       "      <td>128.0</td>\n",
       "      <td>4.0</td>\n",
       "      <td>62888.354</td>\n",
       "      <td>905.548906</td>\n",
       "    </tr>\n",
       "    <tr>\n",
       "      <th>1</th>\n",
       "      <td>48718.17</td>\n",
       "      <td>210.0</td>\n",
       "      <td>3.0</td>\n",
       "      <td>62888.354</td>\n",
       "      <td>231.991286</td>\n",
       "    </tr>\n",
       "    <tr>\n",
       "      <th>2</th>\n",
       "      <td>28977.56</td>\n",
       "      <td>58.0</td>\n",
       "      <td>2.0</td>\n",
       "      <td>62888.354</td>\n",
       "      <td>499.613103</td>\n",
       "    </tr>\n",
       "    <tr>\n",
       "      <th>3</th>\n",
       "      <td>36932.27</td>\n",
       "      <td>79.0</td>\n",
       "      <td>3.0</td>\n",
       "      <td>62888.354</td>\n",
       "      <td>467.497089</td>\n",
       "    </tr>\n",
       "    <tr>\n",
       "      <th>4</th>\n",
       "      <td>83903.51</td>\n",
       "      <td>111.0</td>\n",
       "      <td>3.0</td>\n",
       "      <td>62888.354</td>\n",
       "      <td>755.887477</td>\n",
       "    </tr>\n",
       "  </tbody>\n",
       "</table>\n",
       "</div>"
      ],
      "text/plain": [
       "   price_in_usd  surface_in_m2  rooms  total_mean_price  total_price_m2\n",
       "0     115910.26          128.0    4.0         62888.354      905.548906\n",
       "1      48718.17          210.0    3.0         62888.354      231.991286\n",
       "2      28977.56           58.0    2.0         62888.354      499.613103\n",
       "3      36932.27           79.0    3.0         62888.354      467.497089\n",
       "4      83903.51          111.0    3.0         62888.354      755.887477"
      ]
     },
     "execution_count": 13,
     "metadata": {},
     "output_type": "execute_result"
    }
   ],
   "source": [
    "df_house_prices"
   ]
  },
  {
   "cell_type": "code",
   "execution_count": 14,
   "metadata": {},
   "outputs": [],
   "source": [
    "df_house_prices.drop('total_mean_price', axis=1, inplace=True)"
   ]
  },
  {
   "cell_type": "code",
   "execution_count": 15,
   "metadata": {},
   "outputs": [
    {
     "data": {
      "text/html": [
       "<div>\n",
       "<style scoped>\n",
       "    .dataframe tbody tr th:only-of-type {\n",
       "        vertical-align: middle;\n",
       "    }\n",
       "\n",
       "    .dataframe tbody tr th {\n",
       "        vertical-align: top;\n",
       "    }\n",
       "\n",
       "    .dataframe thead th {\n",
       "        text-align: right;\n",
       "    }\n",
       "</style>\n",
       "<table border=\"1\" class=\"dataframe\">\n",
       "  <thead>\n",
       "    <tr style=\"text-align: right;\">\n",
       "      <th></th>\n",
       "      <th>price_in_usd</th>\n",
       "      <th>surface_in_m2</th>\n",
       "      <th>rooms</th>\n",
       "      <th>total_price_m2</th>\n",
       "    </tr>\n",
       "  </thead>\n",
       "  <tbody>\n",
       "    <tr>\n",
       "      <th>0</th>\n",
       "      <td>115910.26</td>\n",
       "      <td>128.0</td>\n",
       "      <td>4.0</td>\n",
       "      <td>905.548906</td>\n",
       "    </tr>\n",
       "    <tr>\n",
       "      <th>1</th>\n",
       "      <td>48718.17</td>\n",
       "      <td>210.0</td>\n",
       "      <td>3.0</td>\n",
       "      <td>231.991286</td>\n",
       "    </tr>\n",
       "    <tr>\n",
       "      <th>2</th>\n",
       "      <td>28977.56</td>\n",
       "      <td>58.0</td>\n",
       "      <td>2.0</td>\n",
       "      <td>499.613103</td>\n",
       "    </tr>\n",
       "    <tr>\n",
       "      <th>3</th>\n",
       "      <td>36932.27</td>\n",
       "      <td>79.0</td>\n",
       "      <td>3.0</td>\n",
       "      <td>467.497089</td>\n",
       "    </tr>\n",
       "    <tr>\n",
       "      <th>4</th>\n",
       "      <td>83903.51</td>\n",
       "      <td>111.0</td>\n",
       "      <td>3.0</td>\n",
       "      <td>755.887477</td>\n",
       "    </tr>\n",
       "  </tbody>\n",
       "</table>\n",
       "</div>"
      ],
      "text/plain": [
       "   price_in_usd  surface_in_m2  rooms  total_price_m2\n",
       "0     115910.26          128.0    4.0      905.548906\n",
       "1      48718.17          210.0    3.0      231.991286\n",
       "2      28977.56           58.0    2.0      499.613103\n",
       "3      36932.27           79.0    3.0      467.497089\n",
       "4      83903.51          111.0    3.0      755.887477"
      ]
     },
     "execution_count": 15,
     "metadata": {},
     "output_type": "execute_result"
    }
   ],
   "source": [
    "df_house_prices"
   ]
  },
  {
   "cell_type": "code",
   "execution_count": null,
   "metadata": {},
   "outputs": [],
   "source": []
  }
 ],
 "metadata": {
  "kernelspec": {
   "display_name": "Python 3 (ipykernel)",
   "language": "python",
   "name": "python3"
  },
  "language_info": {
   "codemirror_mode": {
    "name": "ipython",
    "version": 3
   },
   "file_extension": ".py",
   "mimetype": "text/x-python",
   "name": "python",
   "nbconvert_exporter": "python",
   "pygments_lexer": "ipython3",
   "version": "3.11.3"
  }
 },
 "nbformat": 4,
 "nbformat_minor": 2
}
