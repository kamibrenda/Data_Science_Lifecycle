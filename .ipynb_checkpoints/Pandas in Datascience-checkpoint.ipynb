{
 "cells": [
  {
   "cell_type": "markdown",
   "id": "cca8a1ad",
   "metadata": {},
   "source": [
    "## JSON "
   ]
  },
  {
   "cell_type": "code",
   "execution_count": 2,
   "id": "49a0c632",
   "metadata": {},
   "outputs": [
    {
     "name": "stdout",
     "output_type": "stream",
     "text": [
      "{\n",
      "    \"firstName\": \"Jane\",\n",
      "    \"lastName\": \"Doe\",\n",
      "    \"hobby\": \"running\",\n",
      "    \"age\": 35\n",
      "}\n"
     ]
    }
   ],
   "source": [
    "#An example of a Json string.\n",
    "\n",
    "info = \"\"\"{\n",
    "    \"firstName\": \"Jane\",\n",
    "    \"lastName\": \"Doe\",\n",
    "    \"hobby\": \"running\",\n",
    "    \"age\": 35\n",
    "}\"\"\"\n",
    "print(info)"
   ]
  },
  {
   "cell_type": "code",
   "execution_count": 4,
   "id": "3c3b1bad",
   "metadata": {},
   "outputs": [],
   "source": [
    "\"\"\"Import the library responsible for reading the Json file formats. \n",
    "Then the json library will load the json file into the python dictionary.\n",
    "This is because they are arranged similar to dictionaries being of key-value pairs being used.\"\"\"\n",
    "\n",
    "import json\n",
    "\n",
    "dt = json.loads(info)\n"
   ]
  },
  {
   "cell_type": "code",
   "execution_count": null,
   "id": "dabf71ef",
   "metadata": {},
   "outputs": [],
   "source": []
  }
 ],
 "metadata": {
  "kernelspec": {
   "display_name": "Python 3 (ipykernel)",
   "language": "python",
   "name": "python3"
  },
  "language_info": {
   "codemirror_mode": {
    "name": "ipython",
    "version": 3
   },
   "file_extension": ".py",
   "mimetype": "text/x-python",
   "name": "python",
   "nbconvert_exporter": "python",
   "pygments_lexer": "ipython3",
   "version": "3.11.3"
  }
 },
 "nbformat": 4,
 "nbformat_minor": 5
}
