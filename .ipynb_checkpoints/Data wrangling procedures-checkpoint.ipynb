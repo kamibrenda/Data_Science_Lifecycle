{
 "cells": [
  {
   "cell_type": "markdown",
   "id": "9932063f",
   "metadata": {},
   "source": [
    "## Data Wrangling"
   ]
  },
  {
   "cell_type": "code",
   "execution_count": null,
   "id": "6c909d29",
   "metadata": {},
   "outputs": [],
   "source": [
    "\"\"\"Using Pandas in dropping a feature(column) and in creating a column\n",
    "that calculates price column to convert it from kenyan shillings to usd.\n",
    "This is a sample code and is not attached to a particular dataset\"\"\"\n",
    "\n",
    "\n",
    "# Create \"price_usd\" column for df2 (149 pesos to the dollar in 2023)\n",
    "df2[\"price_usd\"] = df2[\"price_kshs\"] / 149\n",
    "\n",
    "# Drop \"price_mxn\" column from df2\n",
    "df2.drop(columns= [\"price_mxn\"], inplace = True)\n",
    "# Print object type, shape, and head\n",
    "print(\"df2 type:\", type(df2))\n",
    "print(\"df2 shape:\", df2.shape)\n",
    "df2.head()"
   ]
  },
  {
   "cell_type": "code",
   "execution_count": null,
   "id": "2e7a9a96",
   "metadata": {},
   "outputs": [],
   "source": [
    "#To drop an observation (row) in a dataframe is done by;\n",
    "\n",
    "\"\"\"df.dropna(inplace=True) --inplace function enables the observation's values to be completely dropped \n",
    "                            within the original dataframe itself\n",
    "\n",
    "df.dropna() --the observation is dropped in the 'working' directory.\"\"\"\n",
    "\n",
    "#for safe practice make a copy of your dataset by with df.copy()"
   ]
  },
  {
   "cell_type": "code",
   "execution_count": null,
   "id": "f5ff51ca",
   "metadata": {},
   "outputs": [],
   "source": [
    "#make a copy of the data \n",
    "df2 = data.copy()\n",
    "df2.head()"
   ]
  },
  {
   "cell_type": "code",
   "execution_count": null,
   "id": "1d097bdc",
   "metadata": {},
   "outputs": [],
   "source": [
    "#summary\n",
    "df2.describe()"
   ]
  }
 ],
 "metadata": {
  "kernelspec": {
   "display_name": "Python 3 (ipykernel)",
   "language": "python",
   "name": "python3"
  },
  "language_info": {
   "codemirror_mode": {
    "name": "ipython",
    "version": 3
   },
   "file_extension": ".py",
   "mimetype": "text/x-python",
   "name": "python",
   "nbconvert_exporter": "python",
   "pygments_lexer": "ipython3",
   "version": "3.11.3"
  }
 },
 "nbformat": 4,
 "nbformat_minor": 5
}
